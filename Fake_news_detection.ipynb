{
  "nbformat": 4,
  "nbformat_minor": 0,
  "metadata": {
    "colab": {
      "name": "Fake_news.ipynb",
      "provenance": [],
      "collapsed_sections": [],
      "include_colab_link": true
    },
    "kernelspec": {
      "name": "python3",
      "display_name": "Python 3"
    },
    "language_info": {
      "name": "python"
    }
  },
  "cells": [
    {
      "cell_type": "markdown",
      "metadata": {
        "id": "view-in-github",
        "colab_type": "text"
      },
      "source": [
        "<a href=\"https://colab.research.google.com/github/mr-fredi/MachineLearning/blob/main/Fake_news_detection.ipynb\" target=\"_parent\"><img src=\"https://colab.research.google.com/assets/colab-badge.svg\" alt=\"Open In Colab\"/></a>"
      ]
    },
    {
      "cell_type": "code",
      "execution_count": null,
      "metadata": {
        "colab": {
          "base_uri": "https://localhost:8080/"
        },
        "id": "o3A7pIRsAy9d",
        "outputId": "2f886d70-54ee-4b92-e0ff-b7ef61e3580d"
      },
      "outputs": [
        {
          "output_type": "stream",
          "name": "stdout",
          "text": [
            "Drive already mounted at /content/drive; to attempt to forcibly remount, call drive.mount(\"/content/drive\", force_remount=True).\n"
          ]
        }
      ],
      "source": [
        "import numpy as np\n",
        "import pandas as pd\n",
        "import itertools\n",
        "from sklearn.model_selection import train_test_split\n",
        "from sklearn.feature_extraction.text import TfidfVectorizer\n",
        "from sklearn.linear_model import PassiveAggressiveClassifier, LogisticRegression\n",
        "from sklearn.metrics import accuracy_score, confusion_matrix, ConfusionMatrixDisplay, classification_report\n",
        "from sklearn.svm import SVC, LinearSVC\n",
        "from sklearn.neighbors import KNeighborsClassifier\n",
        "from sklearn.tree import DecisionTreeClassifier\n",
        "from sklearn.ensemble import RandomForestClassifier\n",
        "from sklearn.naive_bayes import GaussianNB\n",
        "from sklearn.neural_network import MLPClassifier\n",
        "from sklearn.model_selection import cross_val_score, KFold\n",
        "import matplotlib.pyplot as plt\n",
        "from google.colab import drive\n",
        "\n",
        "\n",
        "drive.mount('/content/drive')"
      ]
    },
    {
      "cell_type": "code",
      "source": [
        "df = pd.read_csv('/content/drive/My Drive/news.csv')\n",
        "print('shape =', df.shape)\n",
        "df.head(10)"
      ],
      "metadata": {
        "colab": {
          "base_uri": "https://localhost:8080/",
          "height": 380
        },
        "id": "W12UnJUYCw5j",
        "outputId": "7bc6ab9b-f637-48e6-9589-d8bd5f827414"
      },
      "execution_count": null,
      "outputs": [
        {
          "output_type": "stream",
          "name": "stdout",
          "text": [
            "shape = (6335, 4)\n"
          ]
        },
        {
          "output_type": "execute_result",
          "data": {
            "text/plain": [
              "   Unnamed: 0                                              title  \\\n",
              "0        8476                       You Can Smell Hillary’s Fear   \n",
              "1       10294  Watch The Exact Moment Paul Ryan Committed Pol...   \n",
              "2        3608        Kerry to go to Paris in gesture of sympathy   \n",
              "3       10142  Bernie supporters on Twitter erupt in anger ag...   \n",
              "4         875   The Battle of New York: Why This Primary Matters   \n",
              "5        6903                                        Tehran, USA   \n",
              "6        7341  Girl Horrified At What She Watches Boyfriend D...   \n",
              "7          95                  ‘Britain’s Schindler’ Dies at 106   \n",
              "8        4869  Fact check: Trump and Clinton at the 'commande...   \n",
              "9        2909  Iran reportedly makes new push for uranium con...   \n",
              "\n",
              "                                                text label  \n",
              "0  Daniel Greenfield, a Shillman Journalism Fello...  FAKE  \n",
              "1  Google Pinterest Digg Linkedin Reddit Stumbleu...  FAKE  \n",
              "2  U.S. Secretary of State John F. Kerry said Mon...  REAL  \n",
              "3  — Kaydee King (@KaydeeKing) November 9, 2016 T...  FAKE  \n",
              "4  It's primary day in New York and front-runners...  REAL  \n",
              "5    \\nI’m not an immigrant, but my grandparents ...  FAKE  \n",
              "6  Share This Baylee Luciani (left), Screenshot o...  FAKE  \n",
              "7  A Czech stockbroker who saved more than 650 Je...  REAL  \n",
              "8  Hillary Clinton and Donald Trump made some ina...  REAL  \n",
              "9  Iranian negotiators reportedly have made a las...  REAL  "
            ],
            "text/html": [
              "\n",
              "  <div id=\"df-b7a9b2b9-05a7-478e-92b1-a8c3e0350c1c\">\n",
              "    <div class=\"colab-df-container\">\n",
              "      <div>\n",
              "<style scoped>\n",
              "    .dataframe tbody tr th:only-of-type {\n",
              "        vertical-align: middle;\n",
              "    }\n",
              "\n",
              "    .dataframe tbody tr th {\n",
              "        vertical-align: top;\n",
              "    }\n",
              "\n",
              "    .dataframe thead th {\n",
              "        text-align: right;\n",
              "    }\n",
              "</style>\n",
              "<table border=\"1\" class=\"dataframe\">\n",
              "  <thead>\n",
              "    <tr style=\"text-align: right;\">\n",
              "      <th></th>\n",
              "      <th>Unnamed: 0</th>\n",
              "      <th>title</th>\n",
              "      <th>text</th>\n",
              "      <th>label</th>\n",
              "    </tr>\n",
              "  </thead>\n",
              "  <tbody>\n",
              "    <tr>\n",
              "      <th>0</th>\n",
              "      <td>8476</td>\n",
              "      <td>You Can Smell Hillary’s Fear</td>\n",
              "      <td>Daniel Greenfield, a Shillman Journalism Fello...</td>\n",
              "      <td>FAKE</td>\n",
              "    </tr>\n",
              "    <tr>\n",
              "      <th>1</th>\n",
              "      <td>10294</td>\n",
              "      <td>Watch The Exact Moment Paul Ryan Committed Pol...</td>\n",
              "      <td>Google Pinterest Digg Linkedin Reddit Stumbleu...</td>\n",
              "      <td>FAKE</td>\n",
              "    </tr>\n",
              "    <tr>\n",
              "      <th>2</th>\n",
              "      <td>3608</td>\n",
              "      <td>Kerry to go to Paris in gesture of sympathy</td>\n",
              "      <td>U.S. Secretary of State John F. Kerry said Mon...</td>\n",
              "      <td>REAL</td>\n",
              "    </tr>\n",
              "    <tr>\n",
              "      <th>3</th>\n",
              "      <td>10142</td>\n",
              "      <td>Bernie supporters on Twitter erupt in anger ag...</td>\n",
              "      <td>— Kaydee King (@KaydeeKing) November 9, 2016 T...</td>\n",
              "      <td>FAKE</td>\n",
              "    </tr>\n",
              "    <tr>\n",
              "      <th>4</th>\n",
              "      <td>875</td>\n",
              "      <td>The Battle of New York: Why This Primary Matters</td>\n",
              "      <td>It's primary day in New York and front-runners...</td>\n",
              "      <td>REAL</td>\n",
              "    </tr>\n",
              "    <tr>\n",
              "      <th>5</th>\n",
              "      <td>6903</td>\n",
              "      <td>Tehran, USA</td>\n",
              "      <td>\\nI’m not an immigrant, but my grandparents ...</td>\n",
              "      <td>FAKE</td>\n",
              "    </tr>\n",
              "    <tr>\n",
              "      <th>6</th>\n",
              "      <td>7341</td>\n",
              "      <td>Girl Horrified At What She Watches Boyfriend D...</td>\n",
              "      <td>Share This Baylee Luciani (left), Screenshot o...</td>\n",
              "      <td>FAKE</td>\n",
              "    </tr>\n",
              "    <tr>\n",
              "      <th>7</th>\n",
              "      <td>95</td>\n",
              "      <td>‘Britain’s Schindler’ Dies at 106</td>\n",
              "      <td>A Czech stockbroker who saved more than 650 Je...</td>\n",
              "      <td>REAL</td>\n",
              "    </tr>\n",
              "    <tr>\n",
              "      <th>8</th>\n",
              "      <td>4869</td>\n",
              "      <td>Fact check: Trump and Clinton at the 'commande...</td>\n",
              "      <td>Hillary Clinton and Donald Trump made some ina...</td>\n",
              "      <td>REAL</td>\n",
              "    </tr>\n",
              "    <tr>\n",
              "      <th>9</th>\n",
              "      <td>2909</td>\n",
              "      <td>Iran reportedly makes new push for uranium con...</td>\n",
              "      <td>Iranian negotiators reportedly have made a las...</td>\n",
              "      <td>REAL</td>\n",
              "    </tr>\n",
              "  </tbody>\n",
              "</table>\n",
              "</div>\n",
              "      <button class=\"colab-df-convert\" onclick=\"convertToInteractive('df-b7a9b2b9-05a7-478e-92b1-a8c3e0350c1c')\"\n",
              "              title=\"Convert this dataframe to an interactive table.\"\n",
              "              style=\"display:none;\">\n",
              "        \n",
              "  <svg xmlns=\"http://www.w3.org/2000/svg\" height=\"24px\"viewBox=\"0 0 24 24\"\n",
              "       width=\"24px\">\n",
              "    <path d=\"M0 0h24v24H0V0z\" fill=\"none\"/>\n",
              "    <path d=\"M18.56 5.44l.94 2.06.94-2.06 2.06-.94-2.06-.94-.94-2.06-.94 2.06-2.06.94zm-11 1L8.5 8.5l.94-2.06 2.06-.94-2.06-.94L8.5 2.5l-.94 2.06-2.06.94zm10 10l.94 2.06.94-2.06 2.06-.94-2.06-.94-.94-2.06-.94 2.06-2.06.94z\"/><path d=\"M17.41 7.96l-1.37-1.37c-.4-.4-.92-.59-1.43-.59-.52 0-1.04.2-1.43.59L10.3 9.45l-7.72 7.72c-.78.78-.78 2.05 0 2.83L4 21.41c.39.39.9.59 1.41.59.51 0 1.02-.2 1.41-.59l7.78-7.78 2.81-2.81c.8-.78.8-2.07 0-2.86zM5.41 20L4 18.59l7.72-7.72 1.47 1.35L5.41 20z\"/>\n",
              "  </svg>\n",
              "      </button>\n",
              "      \n",
              "  <style>\n",
              "    .colab-df-container {\n",
              "      display:flex;\n",
              "      flex-wrap:wrap;\n",
              "      gap: 12px;\n",
              "    }\n",
              "\n",
              "    .colab-df-convert {\n",
              "      background-color: #E8F0FE;\n",
              "      border: none;\n",
              "      border-radius: 50%;\n",
              "      cursor: pointer;\n",
              "      display: none;\n",
              "      fill: #1967D2;\n",
              "      height: 32px;\n",
              "      padding: 0 0 0 0;\n",
              "      width: 32px;\n",
              "    }\n",
              "\n",
              "    .colab-df-convert:hover {\n",
              "      background-color: #E2EBFA;\n",
              "      box-shadow: 0px 1px 2px rgba(60, 64, 67, 0.3), 0px 1px 3px 1px rgba(60, 64, 67, 0.15);\n",
              "      fill: #174EA6;\n",
              "    }\n",
              "\n",
              "    [theme=dark] .colab-df-convert {\n",
              "      background-color: #3B4455;\n",
              "      fill: #D2E3FC;\n",
              "    }\n",
              "\n",
              "    [theme=dark] .colab-df-convert:hover {\n",
              "      background-color: #434B5C;\n",
              "      box-shadow: 0px 1px 3px 1px rgba(0, 0, 0, 0.15);\n",
              "      filter: drop-shadow(0px 1px 2px rgba(0, 0, 0, 0.3));\n",
              "      fill: #FFFFFF;\n",
              "    }\n",
              "  </style>\n",
              "\n",
              "      <script>\n",
              "        const buttonEl =\n",
              "          document.querySelector('#df-b7a9b2b9-05a7-478e-92b1-a8c3e0350c1c button.colab-df-convert');\n",
              "        buttonEl.style.display =\n",
              "          google.colab.kernel.accessAllowed ? 'block' : 'none';\n",
              "\n",
              "        async function convertToInteractive(key) {\n",
              "          const element = document.querySelector('#df-b7a9b2b9-05a7-478e-92b1-a8c3e0350c1c');\n",
              "          const dataTable =\n",
              "            await google.colab.kernel.invokeFunction('convertToInteractive',\n",
              "                                                     [key], {});\n",
              "          if (!dataTable) return;\n",
              "\n",
              "          const docLinkHtml = 'Like what you see? Visit the ' +\n",
              "            '<a target=\"_blank\" href=https://colab.research.google.com/notebooks/data_table.ipynb>data table notebook</a>'\n",
              "            + ' to learn more about interactive tables.';\n",
              "          element.innerHTML = '';\n",
              "          dataTable['output_type'] = 'display_data';\n",
              "          await google.colab.output.renderOutput(dataTable, element);\n",
              "          const docLink = document.createElement('div');\n",
              "          docLink.innerHTML = docLinkHtml;\n",
              "          element.appendChild(docLink);\n",
              "        }\n",
              "      </script>\n",
              "    </div>\n",
              "  </div>\n",
              "  "
            ]
          },
          "metadata": {},
          "execution_count": 15
        }
      ]
    },
    {
      "cell_type": "code",
      "source": [
        "df.describe(include='all')"
      ],
      "metadata": {
        "colab": {
          "base_uri": "https://localhost:8080/",
          "height": 394
        },
        "id": "nGYDUZc8Dxg5",
        "outputId": "fdb65dac-5a1d-4d03-a77f-3fa943c4ef70"
      },
      "execution_count": null,
      "outputs": [
        {
          "output_type": "execute_result",
          "data": {
            "text/plain": [
              "          Unnamed: 0                          title  \\\n",
              "count    6335.000000                           6335   \n",
              "unique           NaN                           6256   \n",
              "top              NaN  OnPolitics | 's politics blog   \n",
              "freq             NaN                              5   \n",
              "mean     5280.415627                            NaN   \n",
              "std      3038.503953                            NaN   \n",
              "min         2.000000                            NaN   \n",
              "25%      2674.500000                            NaN   \n",
              "50%      5271.000000                            NaN   \n",
              "75%      7901.000000                            NaN   \n",
              "max     10557.000000                            NaN   \n",
              "\n",
              "                                                     text label  \n",
              "count                                                6335  6335  \n",
              "unique                                               6060     2  \n",
              "top     Killing Obama administration rules, dismantlin...  REAL  \n",
              "freq                                                   58  3171  \n",
              "mean                                                  NaN   NaN  \n",
              "std                                                   NaN   NaN  \n",
              "min                                                   NaN   NaN  \n",
              "25%                                                   NaN   NaN  \n",
              "50%                                                   NaN   NaN  \n",
              "75%                                                   NaN   NaN  \n",
              "max                                                   NaN   NaN  "
            ],
            "text/html": [
              "\n",
              "  <div id=\"df-db574e12-6b2e-48fc-8d34-3ba3a8ad1ddb\">\n",
              "    <div class=\"colab-df-container\">\n",
              "      <div>\n",
              "<style scoped>\n",
              "    .dataframe tbody tr th:only-of-type {\n",
              "        vertical-align: middle;\n",
              "    }\n",
              "\n",
              "    .dataframe tbody tr th {\n",
              "        vertical-align: top;\n",
              "    }\n",
              "\n",
              "    .dataframe thead th {\n",
              "        text-align: right;\n",
              "    }\n",
              "</style>\n",
              "<table border=\"1\" class=\"dataframe\">\n",
              "  <thead>\n",
              "    <tr style=\"text-align: right;\">\n",
              "      <th></th>\n",
              "      <th>Unnamed: 0</th>\n",
              "      <th>title</th>\n",
              "      <th>text</th>\n",
              "      <th>label</th>\n",
              "    </tr>\n",
              "  </thead>\n",
              "  <tbody>\n",
              "    <tr>\n",
              "      <th>count</th>\n",
              "      <td>6335.000000</td>\n",
              "      <td>6335</td>\n",
              "      <td>6335</td>\n",
              "      <td>6335</td>\n",
              "    </tr>\n",
              "    <tr>\n",
              "      <th>unique</th>\n",
              "      <td>NaN</td>\n",
              "      <td>6256</td>\n",
              "      <td>6060</td>\n",
              "      <td>2</td>\n",
              "    </tr>\n",
              "    <tr>\n",
              "      <th>top</th>\n",
              "      <td>NaN</td>\n",
              "      <td>OnPolitics | 's politics blog</td>\n",
              "      <td>Killing Obama administration rules, dismantlin...</td>\n",
              "      <td>REAL</td>\n",
              "    </tr>\n",
              "    <tr>\n",
              "      <th>freq</th>\n",
              "      <td>NaN</td>\n",
              "      <td>5</td>\n",
              "      <td>58</td>\n",
              "      <td>3171</td>\n",
              "    </tr>\n",
              "    <tr>\n",
              "      <th>mean</th>\n",
              "      <td>5280.415627</td>\n",
              "      <td>NaN</td>\n",
              "      <td>NaN</td>\n",
              "      <td>NaN</td>\n",
              "    </tr>\n",
              "    <tr>\n",
              "      <th>std</th>\n",
              "      <td>3038.503953</td>\n",
              "      <td>NaN</td>\n",
              "      <td>NaN</td>\n",
              "      <td>NaN</td>\n",
              "    </tr>\n",
              "    <tr>\n",
              "      <th>min</th>\n",
              "      <td>2.000000</td>\n",
              "      <td>NaN</td>\n",
              "      <td>NaN</td>\n",
              "      <td>NaN</td>\n",
              "    </tr>\n",
              "    <tr>\n",
              "      <th>25%</th>\n",
              "      <td>2674.500000</td>\n",
              "      <td>NaN</td>\n",
              "      <td>NaN</td>\n",
              "      <td>NaN</td>\n",
              "    </tr>\n",
              "    <tr>\n",
              "      <th>50%</th>\n",
              "      <td>5271.000000</td>\n",
              "      <td>NaN</td>\n",
              "      <td>NaN</td>\n",
              "      <td>NaN</td>\n",
              "    </tr>\n",
              "    <tr>\n",
              "      <th>75%</th>\n",
              "      <td>7901.000000</td>\n",
              "      <td>NaN</td>\n",
              "      <td>NaN</td>\n",
              "      <td>NaN</td>\n",
              "    </tr>\n",
              "    <tr>\n",
              "      <th>max</th>\n",
              "      <td>10557.000000</td>\n",
              "      <td>NaN</td>\n",
              "      <td>NaN</td>\n",
              "      <td>NaN</td>\n",
              "    </tr>\n",
              "  </tbody>\n",
              "</table>\n",
              "</div>\n",
              "      <button class=\"colab-df-convert\" onclick=\"convertToInteractive('df-db574e12-6b2e-48fc-8d34-3ba3a8ad1ddb')\"\n",
              "              title=\"Convert this dataframe to an interactive table.\"\n",
              "              style=\"display:none;\">\n",
              "        \n",
              "  <svg xmlns=\"http://www.w3.org/2000/svg\" height=\"24px\"viewBox=\"0 0 24 24\"\n",
              "       width=\"24px\">\n",
              "    <path d=\"M0 0h24v24H0V0z\" fill=\"none\"/>\n",
              "    <path d=\"M18.56 5.44l.94 2.06.94-2.06 2.06-.94-2.06-.94-.94-2.06-.94 2.06-2.06.94zm-11 1L8.5 8.5l.94-2.06 2.06-.94-2.06-.94L8.5 2.5l-.94 2.06-2.06.94zm10 10l.94 2.06.94-2.06 2.06-.94-2.06-.94-.94-2.06-.94 2.06-2.06.94z\"/><path d=\"M17.41 7.96l-1.37-1.37c-.4-.4-.92-.59-1.43-.59-.52 0-1.04.2-1.43.59L10.3 9.45l-7.72 7.72c-.78.78-.78 2.05 0 2.83L4 21.41c.39.39.9.59 1.41.59.51 0 1.02-.2 1.41-.59l7.78-7.78 2.81-2.81c.8-.78.8-2.07 0-2.86zM5.41 20L4 18.59l7.72-7.72 1.47 1.35L5.41 20z\"/>\n",
              "  </svg>\n",
              "      </button>\n",
              "      \n",
              "  <style>\n",
              "    .colab-df-container {\n",
              "      display:flex;\n",
              "      flex-wrap:wrap;\n",
              "      gap: 12px;\n",
              "    }\n",
              "\n",
              "    .colab-df-convert {\n",
              "      background-color: #E8F0FE;\n",
              "      border: none;\n",
              "      border-radius: 50%;\n",
              "      cursor: pointer;\n",
              "      display: none;\n",
              "      fill: #1967D2;\n",
              "      height: 32px;\n",
              "      padding: 0 0 0 0;\n",
              "      width: 32px;\n",
              "    }\n",
              "\n",
              "    .colab-df-convert:hover {\n",
              "      background-color: #E2EBFA;\n",
              "      box-shadow: 0px 1px 2px rgba(60, 64, 67, 0.3), 0px 1px 3px 1px rgba(60, 64, 67, 0.15);\n",
              "      fill: #174EA6;\n",
              "    }\n",
              "\n",
              "    [theme=dark] .colab-df-convert {\n",
              "      background-color: #3B4455;\n",
              "      fill: #D2E3FC;\n",
              "    }\n",
              "\n",
              "    [theme=dark] .colab-df-convert:hover {\n",
              "      background-color: #434B5C;\n",
              "      box-shadow: 0px 1px 3px 1px rgba(0, 0, 0, 0.15);\n",
              "      filter: drop-shadow(0px 1px 2px rgba(0, 0, 0, 0.3));\n",
              "      fill: #FFFFFF;\n",
              "    }\n",
              "  </style>\n",
              "\n",
              "      <script>\n",
              "        const buttonEl =\n",
              "          document.querySelector('#df-db574e12-6b2e-48fc-8d34-3ba3a8ad1ddb button.colab-df-convert');\n",
              "        buttonEl.style.display =\n",
              "          google.colab.kernel.accessAllowed ? 'block' : 'none';\n",
              "\n",
              "        async function convertToInteractive(key) {\n",
              "          const element = document.querySelector('#df-db574e12-6b2e-48fc-8d34-3ba3a8ad1ddb');\n",
              "          const dataTable =\n",
              "            await google.colab.kernel.invokeFunction('convertToInteractive',\n",
              "                                                     [key], {});\n",
              "          if (!dataTable) return;\n",
              "\n",
              "          const docLinkHtml = 'Like what you see? Visit the ' +\n",
              "            '<a target=\"_blank\" href=https://colab.research.google.com/notebooks/data_table.ipynb>data table notebook</a>'\n",
              "            + ' to learn more about interactive tables.';\n",
              "          element.innerHTML = '';\n",
              "          dataTable['output_type'] = 'display_data';\n",
              "          await google.colab.output.renderOutput(dataTable, element);\n",
              "          const docLink = document.createElement('div');\n",
              "          docLink.innerHTML = docLinkHtml;\n",
              "          element.appendChild(docLink);\n",
              "        }\n",
              "      </script>\n",
              "    </div>\n",
              "  </div>\n",
              "  "
            ]
          },
          "metadata": {},
          "execution_count": 3
        }
      ]
    },
    {
      "cell_type": "code",
      "source": [
        "df.isnull().sum()"
      ],
      "metadata": {
        "colab": {
          "base_uri": "https://localhost:8080/"
        },
        "id": "s_7Pr0PuDzMY",
        "outputId": "9d3076d4-8795-4b85-ca83-019b8ec42883"
      },
      "execution_count": null,
      "outputs": [
        {
          "output_type": "execute_result",
          "data": {
            "text/plain": [
              "Unnamed: 0    0\n",
              "title         0\n",
              "text          0\n",
              "label         0\n",
              "dtype: int64"
            ]
          },
          "metadata": {},
          "execution_count": 4
        }
      ]
    },
    {
      "cell_type": "code",
      "source": [
        "## very well balanced data set at 50/50\n",
        "df['label'].value_counts()"
      ],
      "metadata": {
        "colab": {
          "base_uri": "https://localhost:8080/"
        },
        "id": "Pg_mpHHPFTxw",
        "outputId": "09a1cbfa-14de-4ec7-e351-a114eeb4f84d"
      },
      "execution_count": null,
      "outputs": [
        {
          "output_type": "execute_result",
          "data": {
            "text/plain": [
              "REAL    3171\n",
              "FAKE    3164\n",
              "Name: label, dtype: int64"
            ]
          },
          "metadata": {},
          "execution_count": 5
        }
      ]
    },
    {
      "cell_type": "code",
      "source": [
        "a = 3171 / (3171+3164)\n",
        "print(a)"
      ],
      "metadata": {
        "colab": {
          "base_uri": "https://localhost:8080/"
        },
        "id": "-v1uKjBCFzqn",
        "outputId": "80721650-78b1-4622-ab97-c78f65cd5ece"
      },
      "execution_count": null,
      "outputs": [
        {
          "output_type": "stream",
          "name": "stdout",
          "text": [
            "0.5005524861878453\n"
          ]
        }
      ]
    },
    {
      "cell_type": "code",
      "source": [
        "ground_truth = df.label\n",
        "\n",
        "## train/test split\n",
        "x_train,x_test,y_train,y_test=train_test_split(df['text'], ground_truth, test_size=0.2, random_state=1)"
      ],
      "metadata": {
        "id": "uFVlCfybGACO"
      },
      "execution_count": null,
      "outputs": []
    },
    {
      "cell_type": "code",
      "source": [
        "#create a TfidfVectorizer\n",
        "tfidf_vectorizer = TfidfVectorizer(stop_words='english', max_df=0.7)\n",
        "\n",
        "#Fit and transform train set, transform test set \n",
        "## TO-DO: understand what's going on here\n",
        "tfidf_train = tfidf_vectorizer.fit_transform(x_train) \n",
        "tfidf_test = tfidf_vectorizer.transform(x_test)"
      ],
      "metadata": {
        "id": "ryHfbNZrG-kc"
      },
      "execution_count": null,
      "outputs": []
    },
    {
      "cell_type": "code",
      "source": [
        ""
      ],
      "metadata": {
        "colab": {
          "base_uri": "https://localhost:8080/"
        },
        "id": "UZk6U9-TTk8Q",
        "outputId": "60efefcc-e29b-474a-9159-b7cf0cf65c91"
      },
      "execution_count": null,
      "outputs": [
        {
          "output_type": "execute_result",
          "data": {
            "text/plain": [
              "<1x60645 sparse matrix of type '<class 'numpy.float64'>'\n",
              "\twith 472 stored elements in Compressed Sparse Row format>"
            ]
          },
          "metadata": {},
          "execution_count": 29
        }
      ]
    },
    {
      "cell_type": "code",
      "source": [
        "#Create the PassiveAggressiveClassifier\n",
        "pac = PassiveAggressiveClassifier(C=100, max_iter=75, early_stopping=True, loss=\"squared_hinge\")\n",
        "pac.fit(tfidf_train,y_train)\n",
        "\n",
        "#Check model accuracy against test set\n",
        "y_pred=pac.predict(tfidf_test)\n",
        "score=accuracy_score(y_test,y_pred)\n",
        "print(f'Accuracy: {round(score*100,2)}%')"
      ],
      "metadata": {
        "colab": {
          "base_uri": "https://localhost:8080/"
        },
        "id": "YQRBsRVgHm7U",
        "outputId": "7119d8e8-501e-497f-b34b-81eab26beb2f"
      },
      "execution_count": null,
      "outputs": [
        {
          "output_type": "stream",
          "name": "stdout",
          "text": [
            "Accuracy: 94.08%\n"
          ]
        }
      ]
    },
    {
      "cell_type": "code",
      "source": [
        "#confusion matrix\n",
        "cm = confusion_matrix(y_test,y_pred, labels=['FAKE','REAL'])\n",
        "disp = ConfusionMatrixDisplay(confusion_matrix=cm, display_labels=pac.classes_)\n",
        "disp.plot()\n",
        "plt.show()"
      ],
      "metadata": {
        "colab": {
          "base_uri": "https://localhost:8080/",
          "height": 279
        },
        "id": "wiWlcfWmH_3b",
        "outputId": "2740c81d-f70c-48ea-8ec8-8e977353193d"
      },
      "execution_count": null,
      "outputs": [
        {
          "output_type": "display_data",
          "data": {
            "text/plain": [
              "<Figure size 432x288 with 2 Axes>"
            ],
            "image/png": "[encoded data removed]"
          },
          "metadata": {
            "needs_background": "light"
          }
        }
      ]
    },
    {
      "cell_type": "code",
      "source": [
        "##cross validate initial PAC model\n",
        "result = cross_val_score(pac, tfidf_train, y_train,  cv=10)\n",
        "print(\"CV test accuracy:\", result.mean())\n",
        "print(result)"
      ],
      "metadata": {
        "colab": {
          "base_uri": "https://localhost:8080/"
        },
        "id": "GAQE4LvwMt6R",
        "outputId": "e22d669c-4735-49c2-e31b-c12f795fc97c"
      },
      "execution_count": null,
      "outputs": [
        {
          "output_type": "stream",
          "name": "stdout",
          "text": [
            "CV test accuracy: 0.9305443163302695\n",
            "[0.9270217  0.92307692 0.91913215 0.93491124 0.93096647 0.92110454\n",
            " 0.93293886 0.9566075  0.91501976 0.94466403]\n"
          ]
        }
      ]
    },
    {
      "cell_type": "code",
      "source": [
        "#Tuning the PassiveAggressiveClassifier - Default\n",
        "pac = PassiveAggressiveClassifier()\n",
        "\n",
        "#Cross Validate on 10 Stratified kfolds\n",
        "result = cross_val_score(pac, tfidf_train, y_train,  cv=10)\n",
        "print(\"CV test accuracy:\", result.mean())\n",
        "print(result)\n",
        "pac.fit(tfidf_train,y_train)\n",
        "\n",
        "#Check model accuracy against test set\n",
        "y_pred=pac.predict(tfidf_test)\n",
        "score=accuracy_score(y_test,y_pred)\n",
        "print(f'Accuracy: {round(score*100,2)}%')"
      ],
      "metadata": {
        "id": "_hUvFxTTIJqK",
        "colab": {
          "base_uri": "https://localhost:8080/"
        },
        "outputId": "61d00de9-bd32-4e98-f363-877c6b783ba6"
      },
      "execution_count": null,
      "outputs": [
        {
          "output_type": "stream",
          "name": "stdout",
          "text": [
            "CV test accuracy: 0.9333076065517536\n",
            "[0.92110454 0.93491124 0.91715976 0.93491124 0.93096647 0.94674556\n",
            " 0.93096647 0.94674556 0.91699605 0.95256917]\n",
            "Accuracy: 94.48%\n"
          ]
        }
      ]
    },
    {
      "cell_type": "code",
      "source": [
        "#Tuning the PassiveAggressiveClassifier\n",
        "pac = PassiveAggressiveClassifier(C=.01)\n",
        "\n",
        "#Cross Validate on 10 Stratified kfolds\n",
        "result = cross_val_score(pac, tfidf_train, y_train,  cv=10)\n",
        "print(\"CV test accuracy:\", result.mean())\n",
        "print(result)\n",
        "pac.fit(tfidf_train,y_train)\n",
        "\n",
        "#Check model accuracy against test set\n",
        "y_pred=pac.predict(tfidf_test)\n",
        "score=accuracy_score(y_test,y_pred)\n",
        "print(f'Accuracy: {round(score*100,2)}%')"
      ],
      "metadata": {
        "colab": {
          "base_uri": "https://localhost:8080/"
        },
        "id": "v3uy58aHZrGM",
        "outputId": "75349a0c-3efb-4299-8216-2e9820aba1da"
      },
      "execution_count": null,
      "outputs": [
        {
          "output_type": "stream",
          "name": "stdout",
          "text": [
            "CV test accuracy: 0.934689836362077\n",
            "[0.91913215 0.93293886 0.91518738 0.94477318 0.93491124 0.93885602\n",
            " 0.93491124 0.94871795 0.91897233 0.95849802]\n",
            "Accuracy: 94.95%\n"
          ]
        }
      ]
    },
    {
      "cell_type": "code",
      "source": [
        "#Tuning the PassiveAggressiveClassifier\n",
        "pac = PassiveAggressiveClassifier(C=.01, max_iter=500)\n",
        "\n",
        "#Cross Validate on 10 Stratified kfolds\n",
        "result = cross_val_score(pac, tfidf_train, y_train,  cv=10)\n",
        "print(\"CV test accuracy:\", result.mean())\n",
        "print(result)\n",
        "pac.fit(tfidf_train,y_train)\n",
        "\n",
        "#Check model accuracy against test set\n",
        "y_pred=pac.predict(tfidf_test)\n",
        "score=accuracy_score(y_test,y_pred)\n",
        "print(f'Accuracy: {round(score*100,2)}%')"
      ],
      "metadata": {
        "colab": {
          "base_uri": "https://localhost:8080/"
        },
        "id": "NLEhcp_WZrRg",
        "outputId": "ba3cd9da-6446-45aa-d310-bb696446419d"
      },
      "execution_count": null,
      "outputs": [
        {
          "output_type": "stream",
          "name": "stdout",
          "text": [
            "CV test accuracy: 0.934887464820575\n",
            "[0.91913215 0.93293886 0.91518738 0.94477318 0.93491124 0.93885602\n",
            " 0.93491124 0.94871795 0.91897233 0.96047431]\n",
            "Accuracy: 94.95%\n"
          ]
        }
      ]
    },
    {
      "cell_type": "code",
      "source": [
        "#Tuning the PassiveAggressiveClassifier\n",
        "pac = PassiveAggressiveClassifier(C=.001, loss=\"squared_hinge\", early_stopping=True, max_iter=5000)\n",
        "\n",
        "#Cross Validate on 10 Stratified kfolds\n",
        "result = cross_val_score(pac, tfidf_train, y_train,  cv=10)\n",
        "print(\"CV test accuracy:\", result.mean())\n",
        "print(result)\n",
        "pac.fit(tfidf_train,y_train)\n",
        "\n",
        "#Check model accuracy against test set\n",
        "y_pred=pac.predict(tfidf_test)\n",
        "score=accuracy_score(y_test,y_pred)\n",
        "print(f'Accuracy: {round(score*100,2)}%')"
      ],
      "metadata": {
        "colab": {
          "base_uri": "https://localhost:8080/"
        },
        "id": "Xk4hCef7a8uh",
        "outputId": "cf4ccecb-81b3-4fba-c391-6ba0b61c7d3e"
      },
      "execution_count": null,
      "outputs": [
        {
          "output_type": "stream",
          "name": "stdout",
          "text": [
            "CV test accuracy: 0.8614873977750233\n",
            "[0.85798817 0.85009862 0.85207101 0.85601578 0.87573964 0.84615385\n",
            " 0.8678501  0.8678501  0.87351779 0.86758893]\n",
            "Accuracy: 87.53%\n"
          ]
        }
      ]
    },
    {
      "cell_type": "code",
      "source": [
        ""
      ],
      "metadata": {
        "id": "YAcMnF-xa83v"
      },
      "execution_count": null,
      "outputs": []
    },
    {
      "cell_type": "code",
      "source": [
        "##testing KNeighbors\n",
        "#Tuning the KN\n",
        "kn = KNeighborsClassifier(n_neighbors=101, weights='distance', algorithm='auto')\n",
        "\n",
        "#Cross Validate on 10 Stratified kfolds\n",
        "result = cross_val_score(kn, tfidf_train, y_train,  cv=10)\n",
        "print(\"CV test accuracy:\", result.mean())\n",
        "print(result)\n",
        "kn.fit(tfidf_train,y_train)\n",
        "\n",
        "#Check model accuracy against test set\n",
        "y_pred=kn.predict(tfidf_test)\n",
        "score=accuracy_score(y_test,y_pred)\n",
        "print(f'Accuracy: {round(score*100,2)}%')"
      ],
      "metadata": {
        "colab": {
          "base_uri": "https://localhost:8080/"
        },
        "id": "-jua17Wsa8_a",
        "outputId": "9377bb07-606f-4081-f2e2-8b03429c5afc"
      },
      "execution_count": null,
      "outputs": [
        {
          "output_type": "stream",
          "name": "stdout",
          "text": [
            "CV test accuracy: 0.8447119769862246\n",
            "[0.85996055 0.82445759 0.81854043 0.85207101 0.84615385 0.87179487\n",
            " 0.83431953 0.85009862 0.83201581 0.85770751]\n",
            "Accuracy: 87.61%\n"
          ]
        }
      ]
    },
    {
      "cell_type": "code",
      "source": [
        "## train / validate mulitple other models using cross validation & compare\n",
        "models = []\n",
        "\n",
        "models.append((\"Passive Aggresive\", PassiveAggressiveClassifier(C=.01, max_iter=500)))\n",
        "models.append((\"LinearSVC\",LinearSVC()))\n",
        "models.append((\"SVC\",SVC()))\n",
        "models.append((\"LogisticRegression\",LogisticRegression()))\n",
        "models.append((\"KNeighbors\",KNeighborsClassifier(n_neighbors=101, weights='distance', algorithm='auto')))\n",
        "models.append((\"DecisionTree\",DecisionTreeClassifier()))\n",
        "models.append((\"RandomForest\",RandomForestClassifier()))\n",
        "rf2 = RandomForestClassifier(n_estimators=100, criterion='gini',\n",
        "                                max_depth=10, random_state=0, max_features=None)\n",
        "models.append((\"RandomForest2\",rf2))\n",
        "#models.append((\"MLPClassifier\",MLPClassifier(solver='lbfgs', random_state=0)))\n",
        "\n",
        "\n",
        "results = []\n",
        "names = []\n",
        "for name,model in models:\n",
        "    result = cross_val_score(model, tfidf_train, y_train,  cv=10)\n",
        "    names.append(name)\n",
        "    results.append(result)\n",
        "\n",
        "models.append((\"MLPClassifier\",MLPClassifier(solver='adam', random_state=0)))\n",
        "result = cross_val_score(model, tfidf_train, y_train,  cv=3)\n",
        "names.append(\"MLPClassifier\")\n",
        "results.append(result)\n",
        "\n",
        "for i in range(len(names)):\n",
        "    print(names[i],results[i].mean())"
      ],
      "metadata": {
        "id": "_8zNubF2I7yB",
        "colab": {
          "base_uri": "https://localhost:8080/"
        },
        "outputId": "75e27eca-90f6-4461-c7d1-463a27b82915"
      },
      "execution_count": null,
      "outputs": [
        {
          "output_type": "stream",
          "name": "stdout",
          "text": [
            "Passive Aggresive 0.9350847034793522\n",
            "LinearSVC 0.9344918181038583\n",
            "SVC 0.9265952553577973\n",
            "LogisticRegression 0.9117972885531413\n",
            "KNeighbors 0.8447119769862246\n",
            "DecisionTree 0.8206465218170903\n",
            "RandomForest 0.9029160917120784\n",
            "RandomForest2 0.8589182278145489\n",
            "MLPClassifier 0.8480669093321094\n"
          ]
        }
      ]
    },
    {
      "cell_type": "code",
      "source": [
        "#testing multiple models on test data before hypertuning all\n",
        "\n",
        "results_test = []\n",
        "names_test = []\n",
        "for name,model in models:\n",
        "  trained_model = model.fit(tfidf_train, y_train)\n",
        "  X_test_prediction = trained_model.predict(tfidf_test)\n",
        "  test_data_accuracy = accuracy_score(X_test_prediction, y_test)\n",
        "  names_test.append(name)\n",
        "  results_test.append(test_data_accuracy)\n",
        "\n",
        "for i in range(len(names_test)):\n",
        "    print(names_test[i],results_test[i])"
      ],
      "metadata": {
        "colab": {
          "base_uri": "https://localhost:8080/"
        },
        "outputId": "3d03b403-00c4-4010-c4eb-35a067127cd5",
        "id": "Jx6eZ2ULlIHz"
      },
      "execution_count": null,
      "outputs": [
        {
          "output_type": "stream",
          "name": "stdout",
          "text": [
            "Passive Aggresive 0.9479084451460142\n",
            "LinearSVC 0.9400157853196527\n",
            "SVC 0.941594317284925\n",
            "LogisticRegression 0.9297553275453828\n",
            "KNeighbors 0.8760852407261247\n",
            "DecisionTree 0.813733228097869\n",
            "RandomForest 0.9076558800315706\n",
            "RandomForest2 0.8658247829518547\n",
            "MLPClassifier 0.9494869771112865\n"
          ]
        }
      ]
    },
    {
      "cell_type": "code",
      "source": [
        "#HYPERTUNED FINAL RESULTS (to screnshot)\n",
        "## see cells below to view various model tuning attempts\n",
        "#testing multiple hypertuned models on test data\n",
        "\n",
        "models = []\n",
        "\n",
        "models.append((\"PassiveAggressive\", PassiveAggressiveClassifier(C=.01, max_iter=500)))\n",
        "models.append((\"MLPClassifier\",MLPClassifier(solver='adam', random_state=0, max_iter=800)))\n",
        "models.append((\"LinearSVC\",LinearSVC(loss='hinge')))\n",
        "models.append((\"LogisticRegression\",LogisticRegression()))\n",
        "models.append((\"SVC\",SVC()))\n",
        "\n",
        "models.append((\"KNeighbors\",KNeighborsClassifier(n_neighbors=101, weights='distance', algorithm='auto')))\n",
        "models.append((\"DecisionTree\",DecisionTreeClassifier(criterion=\"entropy\")))\n",
        "models.append((\"RandomForest\",RandomForestClassifier()))\n",
        "rf2 = RandomForestClassifier(n_estimators=100, criterion='gini',\n",
        "                                max_depth=10, random_state=0, max_features=None)\n",
        "models.append((\"RandomForest2\",rf2))\n",
        "\n",
        "\n",
        "results_test = []\n",
        "names_test = []\n",
        "x_test_predictions = []\n",
        "classification_reports = []\n",
        "for name,model in models:\n",
        "  trained_model = model.fit(tfidf_train, y_train)\n",
        "  X_test_prediction = trained_model.predict(tfidf_test)\n",
        "  x_test_predictions.append(X_test_prediction)\n",
        "  report = classification_report(y_test,X_test_prediction)\n",
        "  classification_reports.append(report)\n",
        "  test_data_accuracy = accuracy_score(X_test_prediction, y_test)\n",
        "\n",
        "  names_test.append(name)\n",
        "  results_test.append(test_data_accuracy)\n",
        "  print(\"done:\", name)\n",
        "\n",
        "for i in range(len(names_test)):\n",
        "    print(names_test[i],results_test[i], classification_reports[i])"
      ],
      "metadata": {
        "colab": {
          "base_uri": "https://localhost:8080/"
        },
        "id": "FVCG2UcBRB-_",
        "outputId": "2af91f8a-4465-40a0-8cd1-9388d73ff211"
      },
      "execution_count": null,
      "outputs": [
        {
          "output_type": "stream",
          "name": "stdout",
          "text": [
            "done: PassiveAggressive\n",
            "done: MLPClassifier\n",
            "done: LinearSVC\n",
            "done: LogisticRegression\n",
            "done: SVC\n",
            "done: KNeighbors\n",
            "done: DecisionTree\n",
            "done: RandomForest\n",
            "done: RandomForest2\n",
            "PassiveAggressive 0.9486977111286503               precision    recall  f1-score   support\n",
            "\n",
            "        FAKE       0.95      0.95      0.95       651\n",
            "        REAL       0.95      0.95      0.95       616\n",
            "\n",
            "    accuracy                           0.95      1267\n",
            "   macro avg       0.95      0.95      0.95      1267\n",
            "weighted avg       0.95      0.95      0.95      1267\n",
            "\n",
            "MLPClassifier 0.9494869771112865               precision    recall  f1-score   support\n",
            "\n",
            "        FAKE       0.95      0.95      0.95       651\n",
            "        REAL       0.95      0.95      0.95       616\n",
            "\n",
            "    accuracy                           0.95      1267\n",
            "   macro avg       0.95      0.95      0.95      1267\n",
            "weighted avg       0.95      0.95      0.95      1267\n",
            "\n",
            "LinearSVC 0.9447513812154696               precision    recall  f1-score   support\n",
            "\n",
            "        FAKE       0.94      0.95      0.95       651\n",
            "        REAL       0.95      0.94      0.94       616\n",
            "\n",
            "    accuracy                           0.94      1267\n",
            "   macro avg       0.94      0.94      0.94      1267\n",
            "weighted avg       0.94      0.94      0.94      1267\n",
            "\n",
            "LogisticRegression 0.9297553275453828               precision    recall  f1-score   support\n",
            "\n",
            "        FAKE       0.92      0.95      0.93       651\n",
            "        REAL       0.94      0.91      0.93       616\n",
            "\n",
            "    accuracy                           0.93      1267\n",
            "   macro avg       0.93      0.93      0.93      1267\n",
            "weighted avg       0.93      0.93      0.93      1267\n",
            "\n",
            "SVC 0.941594317284925               precision    recall  f1-score   support\n",
            "\n",
            "        FAKE       0.93      0.96      0.94       651\n",
            "        REAL       0.96      0.92      0.94       616\n",
            "\n",
            "    accuracy                           0.94      1267\n",
            "   macro avg       0.94      0.94      0.94      1267\n",
            "weighted avg       0.94      0.94      0.94      1267\n",
            "\n",
            "KNeighbors 0.8760852407261247               precision    recall  f1-score   support\n",
            "\n",
            "        FAKE       0.85      0.92      0.88       651\n",
            "        REAL       0.91      0.83      0.87       616\n",
            "\n",
            "    accuracy                           0.88      1267\n",
            "   macro avg       0.88      0.87      0.88      1267\n",
            "weighted avg       0.88      0.88      0.88      1267\n",
            "\n",
            "DecisionTree 0.8042620363062352               precision    recall  f1-score   support\n",
            "\n",
            "        FAKE       0.82      0.80      0.81       651\n",
            "        REAL       0.79      0.81      0.80       616\n",
            "\n",
            "    accuracy                           0.80      1267\n",
            "   macro avg       0.80      0.80      0.80      1267\n",
            "weighted avg       0.80      0.80      0.80      1267\n",
            "\n",
            "RandomForest 0.9116022099447514               precision    recall  f1-score   support\n",
            "\n",
            "        FAKE       0.93      0.89      0.91       651\n",
            "        REAL       0.89      0.93      0.91       616\n",
            "\n",
            "    accuracy                           0.91      1267\n",
            "   macro avg       0.91      0.91      0.91      1267\n",
            "weighted avg       0.91      0.91      0.91      1267\n",
            "\n",
            "RandomForest2 0.8658247829518547               precision    recall  f1-score   support\n",
            "\n",
            "        FAKE       0.87      0.87      0.87       651\n",
            "        REAL       0.87      0.86      0.86       616\n",
            "\n",
            "    accuracy                           0.87      1267\n",
            "   macro avg       0.87      0.87      0.87      1267\n",
            "weighted avg       0.87      0.87      0.87      1267\n",
            "\n"
          ]
        }
      ]
    },
    {
      "cell_type": "code",
      "source": [
        "for i in range(len(names_test)):\n",
        "    print(names_test[i],results_test[i])"
      ],
      "metadata": {
        "colab": {
          "base_uri": "https://localhost:8080/"
        },
        "id": "jal-u4oMyfkx",
        "outputId": "f81c3377-aa55-4495-980c-03eb5def8c06"
      },
      "execution_count": null,
      "outputs": [
        {
          "output_type": "stream",
          "name": "stdout",
          "text": [
            "PassiveAggressive 0.9486977111286503\n",
            "MLPClassifier 0.9494869771112865\n",
            "LinearSVC 0.9447513812154696\n",
            "LogisticRegression 0.9297553275453828\n",
            "SVC 0.941594317284925\n",
            "KNeighbors 0.8760852407261247\n",
            "DecisionTree 0.8042620363062352\n",
            "RandomForest 0.9116022099447514\n",
            "RandomForest2 0.8658247829518547\n"
          ]
        }
      ]
    },
    {
      "cell_type": "code",
      "source": [
        "##LienarSVC tuning 1\n",
        "clf = LinearSVC(loss='hinge')\n",
        "\n",
        "#Cross Validate on 10 Stratified kfolds\n",
        "result = cross_val_score(clf, tfidf_train, y_train,  cv=10)\n",
        "print(\"CV train accuracy:\", result.mean())\n",
        "print(result)\n",
        "\n",
        "trained_model = clf.fit(tfidf_train, y_train)\n",
        "X_test_prediction = trained_model.predict(tfidf_test)\n",
        "test_data_accuracy = accuracy_score(X_test_prediction, y_test)\n",
        "print(\"test accuracy:\", test_data_accuracy)"
      ],
      "metadata": {
        "colab": {
          "base_uri": "https://localhost:8080/"
        },
        "id": "EI6HVYdv1RtT",
        "outputId": "b3b2792f-f00f-496b-99b0-1700dcfbaed7"
      },
      "execution_count": null,
      "outputs": [
        {
          "output_type": "stream",
          "name": "stderr",
          "text": [
            "/usr/local/lib/python3.7/dist-packages/sklearn/svm/_base.py:1208: ConvergenceWarning: Liblinear failed to converge, increase the number of iterations.\n",
            "  ConvergenceWarning,\n"
          ]
        },
        {
          "output_type": "stream",
          "name": "stdout",
          "text": [
            "CV train accuracy: 0.9346921751604025\n",
            "[0.90532544 0.93293886 0.9408284  0.93293886 0.92899408 0.93688363\n",
            " 0.93293886 0.94674556 0.93478261 0.95454545]\n",
            "test accuracy: 0.9431728492501973\n"
          ]
        }
      ]
    },
    {
      "cell_type": "code",
      "source": [
        "##LienarSVC tuning 2 (same max score found)\n",
        "clf = LinearSVC(loss='hinge', C=1.11, max_iter=5000)\n",
        "\n",
        "#Cross Validate on 10 Stratified kfolds\n",
        "result = cross_val_score(clf, tfidf_train, y_train,  cv=10)\n",
        "print(\"CV test accuracy:\", result.mean())\n",
        "print(result)\n",
        "\n",
        "trained_model = clf.fit(tfidf_train, y_train)\n",
        "X_test_prediction = trained_model.predict(tfidf_test)\n",
        "test_data_accuracy = accuracy_score(X_test_prediction, y_test)\n",
        "print(\"test accuracy:\", test_data_accuracy)"
      ],
      "metadata": {
        "colab": {
          "base_uri": "https://localhost:8080/"
        },
        "id": "akHRUfUQ5gC1",
        "outputId": "0df0d9a7-ae2f-4871-f70b-9e8d6962a1d7"
      },
      "execution_count": null,
      "outputs": [
        {
          "output_type": "stream",
          "name": "stdout",
          "text": [
            "CV test accuracy: 0.9356799276531718\n",
            "[0.90532544 0.93688363 0.93885602 0.93096647 0.9270217  0.93885602\n",
            " 0.93491124 0.94674556 0.93675889 0.96047431]\n",
            "test accuracy: 0.9431728492501973\n"
          ]
        }
      ]
    },
    {
      "cell_type": "code",
      "source": [
        "##LienarSVC tuning 3 (same max score found)\n",
        "clf = LinearSVC(dual=False, C=0.75, max_iter=5000)\n",
        "\n",
        "#Cross Validate on 10 Stratified kfolds\n",
        "result = cross_val_score(clf, tfidf_train, y_train,  cv=10)\n",
        "print(\"CV test accuracy:\", result.mean())\n",
        "print(result)\n",
        "\n",
        "trained_model = clf.fit(tfidf_train, y_train)\n",
        "X_test_prediction = trained_model.predict(tfidf_test)\n",
        "test_data_accuracy = accuracy_score(X_test_prediction, y_test)\n",
        "print(\"test accuracy:\", test_data_accuracy)"
      ],
      "metadata": {
        "colab": {
          "base_uri": "https://localhost:8080/"
        },
        "id": "e3v0ReV05xBt",
        "outputId": "c0c87961-ba58-4bf0-db4a-725b76b1b958"
      },
      "execution_count": null,
      "outputs": [
        {
          "output_type": "stream",
          "name": "stdout",
          "text": [
            "CV test accuracy: 0.936664171948453\n",
            "[0.90532544 0.93885602 0.94280079 0.93885602 0.92504931 0.94280079\n",
            " 0.93885602 0.94674556 0.93083004 0.95652174]\n",
            "test accuracy: 0.9431728492501973\n"
          ]
        }
      ]
    },
    {
      "cell_type": "markdown",
      "source": [
        "# Decision Tree Fine-Tuning\n",
        "\n",
        "The Decision Tree had a mid-range performance compared to other methods - coming in at 83%. In an exercise on fine-tuning, let's try to boost the performance. Let's delve into Scikit's DecisionTreeClassifier parameters to understand the moving parts\n",
        "\n",
        "Source: https://towardsdatascience.com/how-to-tune-a-decision-tree-f03721801680\n",
        "* Criterion: 'gini' or 'entropy'\n",
        "    \n",
        "    The tree nodes are split using impurity, a measure of homogeneity of labels on a node.\n",
        "    *  'entropy' splits the node to give the most amount of information gain\n",
        "    *  'gini' measures divergences between probability distributions of the target attribute's values and splits the node to give the least amount of impurity\n",
        "*Splitter: 'best' or 'random'\n",
        "    * 'best' splitter evaluates all splits using the criterion before splitting. If you have hundreds of features, 'best' would be ideal to calculate the best features. Also good for a tree with few features without overfitting\n",
        "    * 'random' uses random uniform function to split. It doesn't have the computation overhead of 'best' and is less prone to overfitting\n",
        "*Max_features: int, float, string or None, option (default = None)\n",
        "\n",
        "At every split, the algorithm looks for a number of features and takes on with optimal metric using impurity, and then two branches are created. Max-features allows us to look at some features instead of all of them so that you lessen the computation load. It also limits overfitting, thereby increasing tree stability. \n",
        "    * 'auto': max_features=sqrt(n_features)\n",
        "    * 'sqrt': max_features=sqrt(n_features)\n",
        "    * 'log2': max_features=log2(n_features). Try this if there is high computational cost or a lot of overfitting. You can then proceed to bring it up slightly using sqrt or take it down with a custom float\n",
        "    * 'none': max_features=n_features"
      ],
      "metadata": {
        "id": "Tg-lO4evuTSI"
      }
    },
    {
      "cell_type": "code",
      "source": [
        "#Decision Tree Fine Tuning 1\n",
        "clf = DecisionTreeClassifier(criterion=\"entropy\")\n",
        "#Cross Validate on 10 Stratified kfolds\n",
        "result = cross_val_score(clf, tfidf_train, y_train,  cv=10)\n",
        "print(\"CV test accuracy:\", result.mean())\n",
        "print(result)\n",
        "\n",
        "trained_model = clf.fit(tfidf_train, y_train)\n",
        "X_test_prediction = trained_model.predict(tfidf_test)\n",
        "test_data_accuracy = accuracy_score(X_test_prediction, y_test)\n",
        "print(\"test accuracy:\", test_data_accuracy)"
      ],
      "metadata": {
        "id": "AG0IM_3wuWev",
        "colab": {
          "base_uri": "https://localhost:8080/"
        },
        "outputId": "57c54755-847d-4873-ab9e-a304c0e120c0"
      },
      "execution_count": null,
      "outputs": [
        {
          "output_type": "stream",
          "name": "stdout",
          "text": [
            "CV test accuracy: 0.8157097083518489\n",
            "[0.7790927  0.82445759 0.83234714 0.82840237 0.83234714 0.79487179\n",
            " 0.81459566 0.80276134 0.8083004  0.83992095]\n",
            "test accuracy: 0.8326756116811366\n"
          ]
        }
      ]
    },
    {
      "cell_type": "code",
      "source": [
        "# Decision Tree Fine Tuning 2\n",
        "clf = DecisionTreeClassifier(criterion=\"entropy\", splitter=\"random\")\n",
        "#Cross Validate on 10 Stratified kfolds\n",
        "result = cross_val_score(clf, tfidf_train, y_train,  cv=10)\n",
        "print(\"CV test accuracy:\", result.mean())\n",
        "print(result)\n",
        "\n",
        "trained_model = clf.fit(tfidf_train, y_train)\n",
        "X_test_prediction = trained_model.predict(tfidf_test)\n",
        "test_data_accuracy = accuracy_score(X_test_prediction, y_test)\n",
        "print(\"test accuracy:\", test_data_accuracy)"
      ],
      "metadata": {
        "id": "BviIaaT-vSZQ",
        "colab": {
          "base_uri": "https://localhost:8080/"
        },
        "outputId": "7a01a730-d780-4e99-c777-233d5be7e86f"
      },
      "execution_count": null,
      "outputs": [
        {
          "output_type": "stream",
          "name": "stdout",
          "text": [
            "CV test accuracy: 0.8042601211497532\n",
            "[0.7790927  0.82445759 0.80473373 0.80473373 0.78500986 0.81854043\n",
            " 0.81459566 0.81262327 0.80632411 0.79249012]\n",
            "test accuracy: 0.7987371744277821\n"
          ]
        }
      ]
    },
    {
      "cell_type": "code",
      "source": [
        "#Decision Tree Fine Tuning 3\n",
        "clf = DecisionTreeClassifier(criterion=\"entropy\", splitter=\"random\", max_features='sqrt')\n",
        "#Cross Validate on 10 Stratified kfolds\n",
        "result = cross_val_score(clf, tfidf_train, y_train,  cv=10)\n",
        "print(\"CV test accuracy:\", result.mean())\n",
        "print(result)\n",
        "\n",
        "trained_model = clf.fit(tfidf_train, y_train)\n",
        "X_test_prediction = trained_model.predict(tfidf_test)\n",
        "test_data_accuracy = accuracy_score(X_test_prediction, y_test)\n",
        "print(\"test accuracy:\", test_data_accuracy)"
      ],
      "metadata": {
        "id": "8jFDVYsHwTzc",
        "colab": {
          "base_uri": "https://localhost:8080/"
        },
        "outputId": "21affa31-24c3-4982-ea9a-bbb258705c7f"
      },
      "execution_count": null,
      "outputs": [
        {
          "output_type": "stream",
          "name": "stdout",
          "text": [
            "CV test accuracy: 0.7336182769293138\n",
            "[0.75542406 0.7357002  0.74358974 0.72583826 0.71597633 0.74556213\n",
            " 0.72583826 0.74358974 0.70948617 0.73517787]\n",
            "test accuracy: 0.7079715864246251\n"
          ]
        }
      ]
    },
    {
      "cell_type": "markdown",
      "source": [
        "The use of \"entropy\" criterion improved minimally (2%) the model's accuracy vs \"gini\" \n",
        "\n",
        "The use of 'random' to split the information and max_features calculated by 'sqrt' rather than a default of none caused a decrease in accuracy. Affect of max_features is because the model is not highly complex, and suggests we don't have an overfitting issue "
      ],
      "metadata": {
        "id": "CKS9Uy8MvW0_"
      }
    },
    {
      "cell_type": "markdown",
      "source": [
        "# MLP Classifier\n",
        "Let's test how different weight optimizations affect MLP Classifier accuracy\n",
        "\n",
        "\n",
        "\n",
        "*   'lbfgs' is optimizer in family of quasi-Newton methods\n",
        "*   'sgd' is stochastic gradient descent\n",
        "*   'adam' is stochastic gradient-based optimizer propsoed by Kingma, Diederik, and Jimmy Ba\n",
        "\n",
        "According to scikit-learn, default solver 'adam' works on large datasets in training time and validation score.\n",
        "\n",
        "'lbfgs' is more suited for small datasets since it can converge faster and perform better"
      ],
      "metadata": {
        "id": "dGado2vNuepu"
      }
    },
    {
      "cell_type": "code",
      "source": [
        "## MLP classifier tuning\n",
        "clf = MLPClassifier(solver='sgd', random_state=0)\n",
        "\n",
        "#Cross Validate on 10 Stratified kfolds\n",
        "result = cross_val_score(clf, tfidf_train, y_train,  cv=3)\n",
        "print(\"CV test accuracy:\", result.mean())\n",
        "print(result)\n",
        "\n",
        "trained_model = clf.fit(tfidf_train, y_train)\n",
        "X_test_prediction = trained_model.predict(tfidf_test)\n",
        "test_data_accuracy = accuracy_score(X_test_prediction, y_test)\n",
        "print(\"test accuracy:\", test_data_accuracy)"
      ],
      "metadata": {
        "colab": {
          "base_uri": "https://localhost:8080/"
        },
        "id": "aIW8j0Rf79Zz",
        "outputId": "db70eb15-d39f-4bf0-824d-16c5102bd826"
      },
      "execution_count": null,
      "outputs": [
        {
          "output_type": "stream",
          "name": "stderr",
          "text": [
            "/usr/local/lib/python3.7/dist-packages/sklearn/neural_network/_multilayer_perceptron.py:696: ConvergenceWarning: Stochastic Optimizer: Maximum iterations (200) reached and the optimization hasn't converged yet.\n",
            "  ConvergenceWarning,\n",
            "/usr/local/lib/python3.7/dist-packages/sklearn/neural_network/_multilayer_perceptron.py:696: ConvergenceWarning: Stochastic Optimizer: Maximum iterations (200) reached and the optimization hasn't converged yet.\n",
            "  ConvergenceWarning,\n",
            "/usr/local/lib/python3.7/dist-packages/sklearn/neural_network/_multilayer_perceptron.py:696: ConvergenceWarning: Stochastic Optimizer: Maximum iterations (200) reached and the optimization hasn't converged yet.\n",
            "  ConvergenceWarning,\n"
          ]
        },
        {
          "output_type": "stream",
          "name": "stdout",
          "text": [
            "CV test accuracy: 0.8224156071949486\n",
            "[0.82011834 0.83362937 0.81349911]\n",
            "test accuracy: 0.8500394632991318\n"
          ]
        },
        {
          "output_type": "stream",
          "name": "stderr",
          "text": [
            "/usr/local/lib/python3.7/dist-packages/sklearn/neural_network/_multilayer_perceptron.py:696: ConvergenceWarning: Stochastic Optimizer: Maximum iterations (200) reached and the optimization hasn't converged yet.\n",
            "  ConvergenceWarning,\n"
          ]
        }
      ]
    },
    {
      "cell_type": "code",
      "source": [
        "## MLP classifier tuning\n",
        "clf = MLPClassifier(solver='sgd', random_state=0, warm_start=True, max_iter=800)\n",
        "\n",
        "#Cross Validate on 10 Stratified kfolds\n",
        "result = cross_val_score(clf, tfidf_train, y_train,  cv=3)\n",
        "print(\"CV test accuracy:\", result.mean())\n",
        "print(result)\n",
        "\n",
        "trained_model = clf.fit(tfidf_train, y_train)\n",
        "X_test_prediction = trained_model.predict(tfidf_test)\n",
        "test_data_accuracy = accuracy_score(X_test_prediction, y_test)\n",
        "print(\"test accuracy:\", test_data_accuracy)"
      ],
      "metadata": {
        "id": "LLVXPJUe9qAf"
      },
      "execution_count": null,
      "outputs": []
    },
    {
      "cell_type": "code",
      "source": [
        "## MLP Classifier Tuning 3\n",
        "clf = MLPClassifier(solver='adam', random_state=0, max_iter=800)\n",
        "\n",
        "#Cross Validate on 10 Stratified kfolds\n",
        "result = cross_val_score(clf, tfidf_train, y_train,  cv=3)\n",
        "print(\"CV test accuracy:\", result.mean())\n",
        "print(result)\n",
        "\n",
        "trained_model = clf.fit(tfidf_train, y_train)\n",
        "X_test_prediction = trained_model.predict(tfidf_test)\n",
        "test_data_accuracy = accuracy_score(X_test_prediction, y_test)\n",
        "print(\"test accuracy:\", test_data_accuracy)"
      ],
      "metadata": {
        "id": "ut2vtSb3FTZx"
      },
      "execution_count": null,
      "outputs": []
    },
    {
      "cell_type": "code",
      "source": [
        "##trying some things from a kaggle notebook https://www.kaggle.com/code/akarsh1/fakenews-classification-using-ml-and-deep-learning/notebook\n",
        "\n",
        "import nltk\n",
        "import re\n",
        "from nltk.corpus import stopwords\n",
        "nltk.download('stopwords')\n",
        "from tensorflow.keras.layers import Embedding,Dropout\n",
        "from tensorflow.keras.preprocessing.sequence import pad_sequences\n",
        "from tensorflow.keras.models import Sequential\n",
        "from tensorflow.keras.preprocessing.text import one_hot\n",
        "from tensorflow.keras.layers import LSTM,Bidirectional,GRU\n",
        "from tensorflow.keras.layers import Dense\n",
        "from sklearn.metrics import classification_report,accuracy_score\n",
        "from sklearn.linear_model import LogisticRegression\n",
        "from sklearn.tree import DecisionTreeClassifier\n",
        "from sklearn.ensemble import RandomForestClassifier\n",
        "from xgboost import XGBClassifier\n",
        "#from catboost import CatBoostClassifier\n",
        "from sklearn.linear_model import LogisticRegression\n",
        "from sklearn.naive_bayes import MultinomialNB"
      ],
      "metadata": {
        "colab": {
          "base_uri": "https://localhost:8080/"
        },
        "id": "T1usJ0YhAzSK",
        "outputId": "5eedce26-80d3-4039-9314-f419ae8471ad"
      },
      "execution_count": null,
      "outputs": [
        {
          "output_type": "stream",
          "name": "stdout",
          "text": [
            "[nltk_data] Downloading package stopwords to /root/nltk_data...\n",
            "[nltk_data]   Package stopwords is already up-to-date!\n"
          ]
        }
      ]
    },
    {
      "cell_type": "code",
      "source": [
        "ground_truth = df.label\n",
        "\n",
        "## train/test split\n",
        "x_train,x_test,y_train,y_test=train_test_split(df['text'], ground_truth, test_size=0.2, random_state=3)\n",
        "\n"
      ],
      "metadata": {
        "id": "w7JXqN2lBT5E"
      },
      "execution_count": null,
      "outputs": []
    },
    {
      "cell_type": "code",
      "source": [
        "\n",
        "x_train"
      ],
      "metadata": {
        "colab": {
          "base_uri": "https://localhost:8080/"
        },
        "id": "INUo3cdLD1xF",
        "outputId": "7e878978-d7cf-40bd-eba4-863305a51c94"
      },
      "execution_count": null,
      "outputs": [
        {
          "output_type": "execute_result",
          "data": {
            "text/plain": [
              "1740    A study conducted at QIMR Berghofer Medical Re...\n",
              "3908    Hillary Clinton appears to have scared away mu...\n",
              "6096    By Lasha Darkmoon on November 1, 2016 Tom Leon...\n",
              "5932    Democratic presidential candidates Hillary Cli...\n",
              "3473    He’s best known for bankrolling Republicans Ri...\n",
              "                              ...                        \n",
              "968     This video shows you how to structure water in...\n",
              "1667    Cable news is in trouble. The Pew Research Cen...\n",
              "3321    Students expressed their “fear” over a Trump p...\n",
              "1688      \\nNew Zealand’s   country’s entire east coas...\n",
              "5994    \\nIn the aftermath of one of the most memorabl...\n",
              "Name: text, Length: 5068, dtype: object"
            ]
          },
          "metadata": {},
          "execution_count": 134
        }
      ]
    },
    {
      "cell_type": "code",
      "source": [
        "# Performing data preprocessing on column 'text'\n",
        "## earlier tried on 'title' with poor results\n",
        "from nltk.stem.porter import PorterStemmer\n",
        "ps = PorterStemmer()\n",
        "def perform_preprocess(data):\n",
        "    '''Input: Data to be processed\n",
        "       Output: Preprocessed data\n",
        "    '''\n",
        "    corpus = []\n",
        "    for i in range(0,len(data)):\n",
        "        review = re.sub('[^a-zA-Z]',' ', data.iloc[i])\n",
        "        review = review.lower()\n",
        "        review = review.split()\n",
        "        review = [ps.stem(word) for word in review if word not in stopwords.words('english')]\n",
        "        review = ' '.join(review)\n",
        "        corpus.append(review)\n",
        "    return corpus\n",
        "    \n",
        "train_corpus = perform_preprocess(x_train)\n",
        "test_corpus  = perform_preprocess(x_test)\n",
        "train_corpus[1]"
      ],
      "metadata": {
        "colab": {
          "base_uri": "https://localhost:8080/",
          "height": 140
        },
        "id": "c5jGlUAAB1IW",
        "outputId": "cdd109a3-bac9-489c-c892-4b08f053c875"
      },
      "execution_count": null,
      "outputs": [
        {
          "output_type": "execute_result",
          "data": {
            "text/plain": [
              "'hillari clinton appear scare away much competit seek democrat nomin presid earli practic encompass effort also present potenti liabil sail primari season larg untest bare knuckl gener elect could deni democrat chanc defin american strategist say good parti democrat parti need real debat take countri say denni kucinich former democrat congressman presidenti candid fox news contributor year old clinton plan make offici announc earli leav doubt whether inde run frontrunn statu unquestion roughli percent like vote lead potenti democrat challeng numb percentag point number combin ambiti public speak schedul fundrais cheerlead group readi hillari make difficult potenti primari challeng rais money addit clinton formid like primari challeng massachusett sen elizabeth warren insist run leav democrat field wide open year old berni sander independ junior senat vermont fourth behind clinton warren vice presid biden accord averag poll realclearpolit com think miss chanc vet ideal say richard fowler democrat host progress lean richard fowler talk show think elect elect ideal ideal would turn polici turn govern clinton former first ladi secretari state new york senat campaign style debat sinc lost democrat presidenti primari presid obama freshman illinoi senat still rel easi primari clinton inde run would like save pummel took last time likeabl enough hillari obama said stage clinton earli democrat frontrunn race among tough question like face need answer well includ knew secur u outpost benghazi libya four american kill terror attack clinton worthi million dollar also like make strong case champion countri poor work class say book tour came white hous dead broke debt hillari clinton think proven trail come back rusti said larri sabato director univers virginia center polit certainli came back rusti book tour'"
            ],
            "application/vnd.google.colaboratory.intrinsic+json": {
              "type": "string"
            }
          },
          "metadata": {},
          "execution_count": 135
        }
      ]
    },
    {
      "cell_type": "code",
      "source": [
        "# Converting to one-hot repr.\n",
        "vocab_size = 5000\n",
        "one_hot_train = [one_hot(word,vocab_size) for word in train_corpus]\n",
        "one_hot_test  = [one_hot(word,vocab_size) for word in test_corpus]\n",
        "\n",
        "one_hot_test[3]"
      ],
      "metadata": {
        "colab": {
          "base_uri": "https://localhost:8080/"
        },
        "id": "y7k6E72WGTn2",
        "outputId": "2734028e-3f08-4b0a-c792-a1533c13f92d"
      },
      "execution_count": null,
      "outputs": [
        {
          "output_type": "execute_result",
          "data": {
            "text/plain": [
              "[2725,\n",
              " 3523,\n",
              " 2647,\n",
              " 3723,\n",
              " 857,\n",
              " 3623,\n",
              " 124,\n",
              " 2761,\n",
              " 4630,\n",
              " 4295,\n",
              " 1736,\n",
              " 1225,\n",
              " 2553,\n",
              " 3635,\n",
              " 708,\n",
              " 4783,\n",
              " 2045,\n",
              " 943,\n",
              " 315,\n",
              " 1140,\n",
              " 3134,\n",
              " 2045,\n",
              " 1287,\n",
              " 175,\n",
              " 1783,\n",
              " 4830,\n",
              " 2229,\n",
              " 2761,\n",
              " 201,\n",
              " 2493,\n",
              " 648,\n",
              " 1337,\n",
              " 2333,\n",
              " 1337,\n",
              " 2805,\n",
              " 315,\n",
              " 72,\n",
              " 3228,\n",
              " 2045,\n",
              " 815,\n",
              " 1783,\n",
              " 3526,\n",
              " 3005,\n",
              " 1798,\n",
              " 545,\n",
              " 350,\n",
              " 3244,\n",
              " 2229,\n",
              " 1409,\n",
              " 2725,\n",
              " 3523,\n",
              " 2826,\n",
              " 865,\n",
              " 1889,\n",
              " 1548,\n",
              " 4812,\n",
              " 910,\n",
              " 3566,\n",
              " 1993,\n",
              " 2045,\n",
              " 487,\n",
              " 1761,\n",
              " 4,\n",
              " 598,\n",
              " 141,\n",
              " 3566,\n",
              " 3905,\n",
              " 3565,\n",
              " 3669,\n",
              " 3739,\n",
              " 2915,\n",
              " 1736,\n",
              " 2423,\n",
              " 1622,\n",
              " 2725,\n",
              " 2829,\n",
              " 146,\n",
              " 2045,\n",
              " 487,\n",
              " 628,\n",
              " 4644,\n",
              " 175,\n",
              " 3228,\n",
              " 4940,\n",
              " 2179,\n",
              " 4295,\n",
              " 3419,\n",
              " 2725,\n",
              " 3523,\n",
              " 1616,\n",
              " 2411,\n",
              " 2493,\n",
              " 2642,\n",
              " 1229,\n",
              " 3990,\n",
              " 3765,\n",
              " 4940,\n",
              " 1963,\n",
              " 4082,\n",
              " 1668,\n",
              " 2217,\n",
              " 3271,\n",
              " 2725,\n",
              " 3723,\n",
              " 865,\n",
              " 3576,\n",
              " 1593,\n",
              " 2572,\n",
              " 1139,\n",
              " 3407,\n",
              " 4924,\n",
              " 2380,\n",
              " 601,\n",
              " 189,\n",
              " 889,\n",
              " 437,\n",
              " 988,\n",
              " 3648,\n",
              " 1872,\n",
              " 2097,\n",
              " 339,\n",
              " 545,\n",
              " 1696,\n",
              " 1140,\n",
              " 2695,\n",
              " 3433,\n",
              " 3648,\n",
              " 2982,\n",
              " 1322,\n",
              " 2996,\n",
              " 4974,\n",
              " 2597,\n",
              " 1622,\n",
              " 874,\n",
              " 2179,\n",
              " 4295,\n",
              " 1736,\n",
              " 4869,\n",
              " 3635]"
            ]
          },
          "metadata": {},
          "execution_count": 140
        }
      ]
    },
    {
      "cell_type": "code",
      "source": [
        "# Embedding Representation \n",
        "sent_length = 350\n",
        "embedd_docs_train = pad_sequences(one_hot_train,padding='pre',maxlen=sent_length)\n",
        "embedd_docs_test  = pad_sequences(one_hot_test,padding='pre',maxlen=sent_length)\n",
        "print(embedd_docs_train[1])"
      ],
      "metadata": {
        "colab": {
          "base_uri": "https://localhost:8080/"
        },
        "id": "zCBzzrfoGTw8",
        "outputId": "1eed81ed-9602-4588-d172-dab1d70511cc"
      },
      "execution_count": null,
      "outputs": [
        {
          "output_type": "stream",
          "name": "stdout",
          "text": [
            "[   0    0    0    0    0    0    0    0    0    0    0    0    0    0\n",
            "    0    0    0    0    0    0    0    0    0    0    0    0    0    0\n",
            "    0    0    0    0    0    0    0    0    0    0    0    0    0    0\n",
            "    0    0    0    0    0    0    0    0    0    0    0    0    0    0\n",
            "    0    0    0    0    0    0    0    0    0    0    0    0    0    0\n",
            "    0    0    0    0 2725 3523 1307  255  501 4923 4297 1403 3755 2524\n",
            " 3828  998 3135 4074 4891 2970 1052 2180 4979 2678 1759  940 2112 4640\n",
            " 2647  514 3540 3623 4602  395 3755 2572 2184  189  900 1668 3244    1\n",
            " 3755    1 3576  828 1256  315 4286 1668 1718 2034 2022 3755   63  857\n",
            " 3426  786 1062  833 1634 1696 3523 4286 4594  885 4014  998 2004 3466\n",
            "  573 1402 3432 4497 1905  882 1438 3298 4940  137 1708 2180 3755 4969\n",
            " 2948 2063  148 4281 2102 4721 2493 3352 1203 1622 4121 3561 4030 2725\n",
            " 4594 1398 2180 1759 4969 1974 2294 3441 3523 2801 4940 1759 4969 3609\n",
            " 3847 2154 3001 1944 3432 2004 3755 2292 4540 3388 1634 1696 4475  943\n",
            "  911  971 3318  889  528 2049 3523 3001  397 3828 1316 3942 2322 3553\n",
            " 1875  733  308 4806 2572 3203 3293 1668 3884  375 3755 1496 4169 2394\n",
            " 3884  375   19 2229  308 3623 3623 3293 3293 1548 3808  777 3808 1515\n",
            " 3523 2022 1910 2928 3673 2675 2695  789 3318 2921 2409 1256  433 3723\n",
            " 3755  857 1759 3828  145 2438 4682 3318  666 1772 4835 1759 3523 1402\n",
            " 3432 1548 4940 4623 3579 2184  294 3272 2021  571 2725  145   51 2668\n",
            " 3523  998 3755 4497 3541 1808 3906  942 4940 1798 3576  981 3648 2356\n",
            " 4013 1275 1429 3667 3077 3059 2073  189 2452 3922 3040 3523 3720 4645\n",
            " 1457 2970 4940 4594 2818 2982 4063 4286 1441 2198 1218 1668 1768 4129\n",
            " 4951 2580 1186 4658 3959 2653 2725 3523  308 1973  419 4352  201 2648\n",
            "   51 3975 4138 2719 1241  449 1741 2332 2176 4951  201 2648 1768 4129]\n"
          ]
        }
      ]
    },
    {
      "cell_type": "code",
      "source": [
        "# Converting Embedding repr. to array\n",
        "x_final = np.array(embedd_docs_train)\n",
        "y_final = np.array(y_train)\n",
        "x_test_final = np.array(embedd_docs_test)\n",
        "y_test_final = np.array(y_test)"
      ],
      "metadata": {
        "id": "VyRD8mMjGT4t"
      },
      "execution_count": null,
      "outputs": []
    },
    {
      "cell_type": "code",
      "source": [
        "# Dimensions of prev. array repr.\n",
        "x_final.shape,y_final.shape,x_test_final.shape,y_test_final.shape"
      ],
      "metadata": {
        "colab": {
          "base_uri": "https://localhost:8080/"
        },
        "id": "Wbccq_RvG_cy",
        "outputId": "ea9f6b63-f3ec-4f0e-c0e4-eff3365b73f4"
      },
      "execution_count": null,
      "outputs": [
        {
          "output_type": "execute_result",
          "data": {
            "text/plain": [
              "((5068, 350), (5068,), (1267, 350), (1267,))"
            ]
          },
          "metadata": {},
          "execution_count": 147
        }
      ]
    },
    {
      "cell_type": "code",
      "source": [
        "model_1 = LogisticRegression(max_iter=900)\n",
        "model_1.fit(x_final,y_final)\n",
        "pred_1 = model_1.predict(x_test_final)\n",
        "cr1    = classification_report(y_test_final,pred_1)\n",
        "print(cr1)"
      ],
      "metadata": {
        "colab": {
          "base_uri": "https://localhost:8080/"
        },
        "id": "teIlmzDKG_fA",
        "outputId": "7d13455b-aeaa-4e28-d102-38a55bf0c72f"
      },
      "execution_count": null,
      "outputs": [
        {
          "output_type": "stream",
          "name": "stdout",
          "text": [
            "              precision    recall  f1-score   support\n",
            "\n",
            "        FAKE       0.63      0.60      0.62       638\n",
            "        REAL       0.61      0.65      0.63       629\n",
            "\n",
            "    accuracy                           0.62      1267\n",
            "   macro avg       0.62      0.62      0.62      1267\n",
            "weighted avg       0.62      0.62      0.62      1267\n",
            "\n"
          ]
        }
      ]
    },
    {
      "cell_type": "code",
      "source": [
        "model_2 = MultinomialNB()\n",
        "model_2.fit(x_final,y_final)\n",
        "pred_2 = model_2.predict(x_test_final)\n",
        "cr2    = classification_report(y_test_final,pred_2)\n",
        "print(cr2)"
      ],
      "metadata": {
        "colab": {
          "base_uri": "https://localhost:8080/"
        },
        "id": "NEMGpEh6G_hb",
        "outputId": "83a1f268-c018-478d-8a6c-75518a42255a"
      },
      "execution_count": null,
      "outputs": [
        {
          "output_type": "stream",
          "name": "stdout",
          "text": [
            "              precision    recall  f1-score   support\n",
            "\n",
            "        FAKE       0.66      0.55      0.60       638\n",
            "        REAL       0.61      0.71      0.66       629\n",
            "\n",
            "    accuracy                           0.63      1267\n",
            "   macro avg       0.63      0.63      0.63      1267\n",
            "weighted avg       0.63      0.63      0.63      1267\n",
            "\n"
          ]
        }
      ]
    },
    {
      "cell_type": "code",
      "source": [
        "model_3 = DecisionTreeClassifier()\n",
        "model_3.fit(x_final,y_final)\n",
        "pred_3 = model_3.predict(x_test_final)\n",
        "cr3    = classification_report(y_test_final,pred_3)\n",
        "print(cr3)"
      ],
      "metadata": {
        "colab": {
          "base_uri": "https://localhost:8080/"
        },
        "id": "EAbVynrDICZJ",
        "outputId": "013ca967-c643-41c9-8302-a42950774c6f"
      },
      "execution_count": null,
      "outputs": [
        {
          "output_type": "stream",
          "name": "stdout",
          "text": [
            "              precision    recall  f1-score   support\n",
            "\n",
            "        FAKE       0.64      0.63      0.63       638\n",
            "        REAL       0.63      0.63      0.63       629\n",
            "\n",
            "    accuracy                           0.63      1267\n",
            "   macro avg       0.63      0.63      0.63      1267\n",
            "weighted avg       0.63      0.63      0.63      1267\n",
            "\n"
          ]
        }
      ]
    },
    {
      "cell_type": "code",
      "source": [
        "model_4 = RandomForestClassifier()\n",
        "model_4.fit(x_final,y_final)\n",
        "pred_4 = model_4.predict(x_test_final)\n",
        "cr4    = classification_report(y_test_final,pred_4)\n",
        "print(cr4)"
      ],
      "metadata": {
        "colab": {
          "base_uri": "https://localhost:8080/"
        },
        "id": "3x7fIE1WICbT",
        "outputId": "0dd0d6a0-8eb4-4cf0-f578-c21a5bc28acd"
      },
      "execution_count": null,
      "outputs": [
        {
          "output_type": "stream",
          "name": "stdout",
          "text": [
            "              precision    recall  f1-score   support\n",
            "\n",
            "        FAKE       0.72      0.57      0.64       638\n",
            "        REAL       0.64      0.77      0.70       629\n",
            "\n",
            "    accuracy                           0.67      1267\n",
            "   macro avg       0.68      0.67      0.67      1267\n",
            "weighted avg       0.68      0.67      0.67      1267\n",
            "\n"
          ]
        }
      ]
    },
    {
      "cell_type": "code",
      "source": [
        "model_5 = XGBClassifier()\n",
        "model_5.fit(x_final,y_final)\n",
        "pred_5 = model_5.predict(x_test_final)\n",
        "cr5    = classification_report(y_test_final,pred_5)\n",
        "print(cr5)"
      ],
      "metadata": {
        "colab": {
          "base_uri": "https://localhost:8080/"
        },
        "id": "Dfep5Yj8ICfX",
        "outputId": "40d857cf-f35d-418b-8045-1eea5e43946e"
      },
      "execution_count": null,
      "outputs": [
        {
          "output_type": "stream",
          "name": "stdout",
          "text": [
            "              precision    recall  f1-score   support\n",
            "\n",
            "        FAKE       0.73      0.60      0.66       638\n",
            "        REAL       0.66      0.78      0.71       629\n",
            "\n",
            "    accuracy                           0.69      1267\n",
            "   macro avg       0.69      0.69      0.68      1267\n",
            "weighted avg       0.69      0.69      0.68      1267\n",
            "\n"
          ]
        }
      ]
    },
    {
      "cell_type": "code",
      "source": [
        "# Creating the LSTM Model for prediction\n",
        "embedding_feature_vector = 40\n",
        "model = Sequential()\n",
        "model.add(Embedding(vocab_size,embedding_feature_vector,input_length=sent_length))\n",
        "model.add(Dropout(0.3))\n",
        "model.add(LSTM(100))\n",
        "model.add(Dropout(0.3))\n",
        "model.add(Dense(1,activation='sigmoid'))\n",
        "model.compile(loss='binary_crossentropy',optimizer='adam',metrics=['accuracy'])\n",
        "print(model.summary())"
      ],
      "metadata": {
        "colab": {
          "base_uri": "https://localhost:8080/"
        },
        "id": "V0UqH1pwICk7",
        "outputId": "80bbc92b-6064-4d65-8129-edc37b72b7c3"
      },
      "execution_count": null,
      "outputs": [
        {
          "output_type": "stream",
          "name": "stdout",
          "text": [
            "Model: \"sequential_1\"\n",
            "_________________________________________________________________\n",
            " Layer (type)                Output Shape              Param #   \n",
            "=================================================================\n",
            " embedding_1 (Embedding)     (None, 350, 40)           200000    \n",
            "                                                                 \n",
            " dropout_2 (Dropout)         (None, 350, 40)           0         \n",
            "                                                                 \n",
            " lstm_1 (LSTM)               (None, 100)               56400     \n",
            "                                                                 \n",
            " dropout_3 (Dropout)         (None, 100)               0         \n",
            "                                                                 \n",
            " dense_1 (Dense)             (None, 1)                 101       \n",
            "                                                                 \n",
            "=================================================================\n",
            "Total params: 256,501\n",
            "Trainable params: 256,501\n",
            "Non-trainable params: 0\n",
            "_________________________________________________________________\n",
            "None\n"
          ]
        }
      ]
    },
    {
      "cell_type": "code",
      "source": [
        "X_train, x_valid, Y_train, y_valid = train_test_split(x_final, y_final, test_size=0.1, random_state=42, stratify = y_train)\n",
        "\n"
      ],
      "metadata": {
        "id": "QE96nRWaICqM"
      },
      "execution_count": null,
      "outputs": []
    },
    {
      "cell_type": "code",
      "source": [
        "for i in range(0,len(Y_train)):\n",
        "  if Y_train[i] == 'REAL':\n",
        "    Y_train[i] = 0\n",
        "  else:\n",
        "    Y_train[i] = 1\n",
        "\n",
        "Y_train\n"
      ],
      "metadata": {
        "colab": {
          "base_uri": "https://localhost:8080/"
        },
        "id": "ncyt3TIDLqvs",
        "outputId": "2b7aee19-0212-42ce-8c7b-db66ddcb1f18"
      },
      "execution_count": null,
      "outputs": [
        {
          "output_type": "execute_result",
          "data": {
            "text/plain": [
              "array([0, 0, 1, ..., 1, 1, 1], dtype=object)"
            ]
          },
          "metadata": {},
          "execution_count": 155
        }
      ]
    },
    {
      "cell_type": "code",
      "source": [
        "for i in range(0,len(y_valid)):\n",
        "  if y_valid[i] == 'REAL':\n",
        "    y_valid[i] = 0\n",
        "  else:\n",
        "    y_valid[i] = 1\n",
        "\n",
        "y_valid"
      ],
      "metadata": {
        "colab": {
          "base_uri": "https://localhost:8080/"
        },
        "id": "bGBnBAA1NfUz",
        "outputId": "33bcf582-b7ce-44a8-8466-3c11bff942e6"
      },
      "execution_count": null,
      "outputs": [
        {
          "output_type": "execute_result",
          "data": {
            "text/plain": [
              "array([0, 0, 1, 1, 0, 1, 1, 0, 0, 0, 0, 1, 0, 1, 1, 1, 1, 0, 1, 1, 1, 1,\n",
              "       1, 0, 1, 1, 1, 0, 1, 0, 1, 0, 0, 1, 1, 0, 0, 1, 0, 1, 1, 0, 0, 1,\n",
              "       1, 1, 0, 1, 0, 1, 1, 1, 0, 0, 1, 0, 0, 0, 0, 0, 0, 0, 0, 1, 1, 1,\n",
              "       1, 1, 1, 0, 1, 0, 0, 0, 0, 0, 1, 1, 1, 0, 0, 1, 1, 1, 0, 0, 0, 1,\n",
              "       0, 0, 1, 0, 0, 0, 1, 1, 0, 1, 0, 1, 0, 1, 0, 1, 1, 1, 0, 0, 0, 0,\n",
              "       0, 0, 1, 1, 1, 0, 1, 0, 0, 1, 0, 0, 0, 0, 0, 1, 0, 0, 0, 1, 1, 0,\n",
              "       0, 1, 1, 0, 0, 0, 1, 1, 0, 0, 0, 1, 1, 0, 0, 1, 0, 1, 0, 0, 0, 1,\n",
              "       0, 0, 1, 0, 1, 0, 0, 0, 0, 0, 1, 0, 1, 0, 1, 0, 1, 0, 1, 1, 1, 0,\n",
              "       0, 1, 1, 1, 0, 1, 0, 1, 0, 0, 0, 0, 0, 0, 1, 1, 1, 1, 1, 1, 0, 1,\n",
              "       0, 0, 1, 1, 0, 0, 1, 1, 0, 0, 1, 0, 0, 0, 1, 1, 1, 0, 0, 1, 1, 0,\n",
              "       0, 1, 1, 0, 0, 1, 1, 1, 1, 1, 0, 0, 0, 1, 1, 1, 0, 1, 0, 1, 1, 0,\n",
              "       1, 0, 0, 1, 1, 1, 1, 1, 1, 0, 1, 1, 0, 0, 0, 1, 0, 0, 0, 0, 1, 0,\n",
              "       1, 1, 1, 1, 0, 0, 0, 1, 0, 0, 1, 0, 1, 1, 0, 0, 1, 0, 0, 1, 0, 1,\n",
              "       1, 0, 1, 0, 0, 0, 1, 0, 0, 0, 1, 1, 1, 0, 0, 1, 1, 1, 0, 1, 0, 0,\n",
              "       1, 1, 0, 1, 1, 0, 1, 1, 1, 0, 0, 1, 0, 1, 0, 1, 0, 1, 1, 1, 0, 1,\n",
              "       1, 0, 1, 0, 0, 1, 1, 1, 1, 0, 1, 1, 0, 1, 0, 0, 0, 0, 0, 1, 0, 1,\n",
              "       0, 1, 0, 1, 0, 0, 1, 0, 0, 0, 1, 0, 1, 1, 1, 1, 0, 1, 1, 0, 1, 0,\n",
              "       0, 0, 0, 1, 0, 0, 1, 0, 0, 1, 0, 0, 0, 0, 1, 1, 0, 0, 0, 0, 0, 0,\n",
              "       1, 1, 1, 0, 0, 1, 0, 1, 1, 0, 0, 0, 1, 1, 0, 1, 1, 1, 1, 0, 0, 1,\n",
              "       0, 1, 0, 1, 0, 0, 0, 0, 1, 0, 0, 1, 1, 0, 1, 0, 1, 1, 1, 1, 1, 1,\n",
              "       0, 1, 1, 0, 1, 1, 1, 1, 0, 0, 1, 0, 0, 0, 1, 1, 1, 1, 1, 1, 0, 0,\n",
              "       1, 0, 1, 0, 1, 0, 0, 1, 1, 1, 1, 1, 1, 0, 0, 0, 0, 1, 1, 1, 1, 1,\n",
              "       1, 1, 0, 0, 1, 0, 1, 0, 1, 1, 1, 1, 0, 0, 0, 1, 1, 1, 0, 0, 0, 1,\n",
              "       0], dtype=object)"
            ]
          },
          "metadata": {},
          "execution_count": 156
        }
      ]
    },
    {
      "cell_type": "code",
      "source": [
        "y_valid = np.asarray(y_valid).astype('int32')\n",
        "Y_train = np.asarray(Y_train).astype('int32')"
      ],
      "metadata": {
        "id": "o0rkERc9OzPe"
      },
      "execution_count": null,
      "outputs": []
    },
    {
      "cell_type": "code",
      "source": [
        "# Training the model\n",
        "model.fit(X_train,Y_train,validation_data=(x_valid,y_valid),epochs=10,batch_size=64)"
      ],
      "metadata": {
        "colab": {
          "base_uri": "https://localhost:8080/"
        },
        "id": "tbQbrJ9SJbdk",
        "outputId": "70b924f6-fc0a-4671-8652-4509946376e7"
      },
      "execution_count": null,
      "outputs": [
        {
          "output_type": "stream",
          "name": "stdout",
          "text": [
            "Epoch 1/10\n",
            "72/72 [==============================] - 40s 510ms/step - loss: 0.6512 - accuracy: 0.6328 - val_loss: 0.4851 - val_accuracy: 0.8166\n",
            "Epoch 2/10\n",
            "72/72 [==============================] - 35s 490ms/step - loss: 0.3157 - accuracy: 0.8717 - val_loss: 0.3592 - val_accuracy: 0.8422\n",
            "Epoch 3/10\n",
            "72/72 [==============================] - 38s 524ms/step - loss: 0.2086 - accuracy: 0.9290 - val_loss: 0.3634 - val_accuracy: 0.8560\n",
            "Epoch 4/10\n",
            "72/72 [==============================] - 33s 463ms/step - loss: 0.1313 - accuracy: 0.9542 - val_loss: 0.3387 - val_accuracy: 0.8659\n",
            "Epoch 5/10\n",
            "72/72 [==============================] - 36s 497ms/step - loss: 0.0959 - accuracy: 0.9684 - val_loss: 0.3697 - val_accuracy: 0.8462\n",
            "Epoch 6/10\n",
            "72/72 [==============================] - 34s 472ms/step - loss: 0.1058 - accuracy: 0.9627 - val_loss: 0.4220 - val_accuracy: 0.8797\n",
            "Epoch 7/10\n",
            "72/72 [==============================] - 32s 450ms/step - loss: 0.0604 - accuracy: 0.9820 - val_loss: 0.4516 - val_accuracy: 0.8836\n",
            "Epoch 8/10\n",
            "72/72 [==============================] - 35s 486ms/step - loss: 0.0448 - accuracy: 0.9868 - val_loss: 0.4701 - val_accuracy: 0.8560\n",
            "Epoch 9/10\n",
            "72/72 [==============================] - 32s 449ms/step - loss: 0.0305 - accuracy: 0.9914 - val_loss: 0.5383 - val_accuracy: 0.8600\n",
            "Epoch 10/10\n",
            "72/72 [==============================] - 32s 447ms/step - loss: 0.0950 - accuracy: 0.9665 - val_loss: 0.4862 - val_accuracy: 0.8205\n"
          ]
        },
        {
          "output_type": "execute_result",
          "data": {
            "text/plain": [
              "<keras.callbacks.History at 0x7fc880d1ec10>"
            ]
          },
          "metadata": {},
          "execution_count": 158
        }
      ]
    },
    {
      "cell_type": "code",
      "source": [
        "for i in range(0,len(y_test_final)):\n",
        "  if y_test_final[i] == 'REAL':\n",
        "    y_test_final[i] = 0\n",
        "  elif y_test_final[i] == 'FAKE':\n",
        "    y_test_final[i] = 1\n",
        "\n",
        "y_test_final"
      ],
      "metadata": {
        "colab": {
          "base_uri": "https://localhost:8080/"
        },
        "id": "46jENppvQjVO",
        "outputId": "a9f519f8-686c-4b47-aa54-0650a2ed0329"
      },
      "execution_count": null,
      "outputs": [
        {
          "output_type": "execute_result",
          "data": {
            "text/plain": [
              "array([0, 1, 0, ..., 1, 1, 0], dtype=object)"
            ]
          },
          "metadata": {},
          "execution_count": 159
        }
      ]
    },
    {
      "cell_type": "code",
      "source": [
        "y_test_final = np.asarray(y_test_final).astype('int32')"
      ],
      "metadata": {
        "id": "W0QapMhEQwCb"
      },
      "execution_count": null,
      "outputs": []
    },
    {
      "cell_type": "code",
      "source": [
        "predictions = (model.predict(x_test_final) > 0.5).astype(\"int32\")\n",
        "cr = classification_report(y_test_final,predictions)\n",
        "print(cr)"
      ],
      "metadata": {
        "colab": {
          "base_uri": "https://localhost:8080/"
        },
        "id": "ZDoJ1qdVOyFp",
        "outputId": "eeeeb913-7da7-4213-8a2f-16684c2ad454"
      },
      "execution_count": null,
      "outputs": [
        {
          "output_type": "stream",
          "name": "stdout",
          "text": [
            "              precision    recall  f1-score   support\n",
            "\n",
            "           0       0.79      0.90      0.84       629\n",
            "           1       0.88      0.76      0.82       638\n",
            "\n",
            "    accuracy                           0.83      1267\n",
            "   macro avg       0.83      0.83      0.83      1267\n",
            "weighted avg       0.83      0.83      0.83      1267\n",
            "\n"
          ]
        }
      ]
    },
    {
      "cell_type": "code",
      "source": [
        "\n"
      ],
      "metadata": {
        "colab": {
          "base_uri": "https://localhost:8080/"
        },
        "id": "POU9vUPOTUmq",
        "outputId": "67cbfb83-5c97-46bc-95f2-8114a9c1e287"
      },
      "execution_count": null,
      "outputs": [
        {
          "output_type": "execute_result",
          "data": {
            "text/plain": [
              "array([[0],\n",
              "       [1],\n",
              "       [0],\n",
              "       ...,\n",
              "       [1],\n",
              "       [1],\n",
              "       [0]], dtype=int32)"
            ]
          },
          "metadata": {},
          "execution_count": 131
        }
      ]
    },
    {
      "cell_type": "code",
      "source": [
        ""
      ],
      "metadata": {
        "id": "UmgGG1K-TWE1"
      },
      "execution_count": null,
      "outputs": []
    }
  ]
}